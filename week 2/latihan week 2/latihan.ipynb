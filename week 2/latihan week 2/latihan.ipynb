{
 "cells": [
  {
   "cell_type": "code",
   "execution_count": 1,
   "id": "af101117",
   "metadata": {},
   "outputs": [],
   "source": [
    "import pandas as pd\n",
    "import matplotlib.pyplot as plt"
   ]
  },
  {
   "cell_type": "code",
   "execution_count": 2,
   "id": "ea70e048",
   "metadata": {},
   "outputs": [],
   "source": [
    "dfm = pd.read_csv(r'C:\\Users\\user\\Documents\\machine-learning\\week 2\\latihan week 2\\Week2_Retail Store.csv')"
   ]
  },
  {
   "cell_type": "code",
   "execution_count": 3,
   "id": "27d7968a",
   "metadata": {},
   "outputs": [
    {
     "data": {
      "text/html": [
       "<div>\n",
       "<style scoped>\n",
       "    .dataframe tbody tr th:only-of-type {\n",
       "        vertical-align: middle;\n",
       "    }\n",
       "\n",
       "    .dataframe tbody tr th {\n",
       "        vertical-align: top;\n",
       "    }\n",
       "\n",
       "    .dataframe thead th {\n",
       "        text-align: right;\n",
       "    }\n",
       "</style>\n",
       "<table border=\"1\" class=\"dataframe\">\n",
       "  <thead>\n",
       "    <tr style=\"text-align: right;\">\n",
       "      <th></th>\n",
       "      <th>Transaction ID</th>\n",
       "      <th>Customer ID</th>\n",
       "      <th>Category</th>\n",
       "      <th>Item</th>\n",
       "      <th>Price Per Unit</th>\n",
       "      <th>Quantity</th>\n",
       "      <th>Total Spent</th>\n",
       "      <th>Payment Method</th>\n",
       "      <th>Location</th>\n",
       "      <th>Transaction Date</th>\n",
       "      <th>Discount Applied</th>\n",
       "    </tr>\n",
       "  </thead>\n",
       "  <tbody>\n",
       "    <tr>\n",
       "      <th>3899</th>\n",
       "      <td>TXN_1894434</td>\n",
       "      <td>CUST_20</td>\n",
       "      <td>Food</td>\n",
       "      <td>Item_14_FOOD</td>\n",
       "      <td>24.5</td>\n",
       "      <td>4.0</td>\n",
       "      <td>98.0</td>\n",
       "      <td>Cash</td>\n",
       "      <td>In-store</td>\n",
       "      <td>2023-03-10</td>\n",
       "      <td>False</td>\n",
       "    </tr>\n",
       "    <tr>\n",
       "      <th>11848</th>\n",
       "      <td>TXN_3087686</td>\n",
       "      <td>CUST_18</td>\n",
       "      <td>Butchers</td>\n",
       "      <td>Item_23_BUT</td>\n",
       "      <td>38.0</td>\n",
       "      <td>5.0</td>\n",
       "      <td>190.0</td>\n",
       "      <td>Cash</td>\n",
       "      <td>Online</td>\n",
       "      <td>2023-04-30</td>\n",
       "      <td>True</td>\n",
       "    </tr>\n",
       "    <tr>\n",
       "      <th>9043</th>\n",
       "      <td>TXN_8640842</td>\n",
       "      <td>CUST_07</td>\n",
       "      <td>Furniture</td>\n",
       "      <td>Item_11_FUR</td>\n",
       "      <td>20.0</td>\n",
       "      <td>3.0</td>\n",
       "      <td>60.0</td>\n",
       "      <td>Cash</td>\n",
       "      <td>Online</td>\n",
       "      <td>2024-09-22</td>\n",
       "      <td>False</td>\n",
       "    </tr>\n",
       "    <tr>\n",
       "      <th>3650</th>\n",
       "      <td>TXN_7305728</td>\n",
       "      <td>CUST_20</td>\n",
       "      <td>Electric household essentials</td>\n",
       "      <td>Item_6_EHE</td>\n",
       "      <td>12.5</td>\n",
       "      <td>6.0</td>\n",
       "      <td>75.0</td>\n",
       "      <td>Cash</td>\n",
       "      <td>Online</td>\n",
       "      <td>2023-02-09</td>\n",
       "      <td>NaN</td>\n",
       "    </tr>\n",
       "    <tr>\n",
       "      <th>5320</th>\n",
       "      <td>TXN_4992740</td>\n",
       "      <td>CUST_25</td>\n",
       "      <td>Milk Products</td>\n",
       "      <td>Item_1_MILK</td>\n",
       "      <td>5.0</td>\n",
       "      <td>6.0</td>\n",
       "      <td>30.0</td>\n",
       "      <td>Cash</td>\n",
       "      <td>Online</td>\n",
       "      <td>2023-11-28</td>\n",
       "      <td>NaN</td>\n",
       "    </tr>\n",
       "  </tbody>\n",
       "</table>\n",
       "</div>"
      ],
      "text/plain": [
       "      Transaction ID Customer ID                       Category          Item  \\\n",
       "3899     TXN_1894434     CUST_20                           Food  Item_14_FOOD   \n",
       "11848    TXN_3087686     CUST_18                       Butchers   Item_23_BUT   \n",
       "9043     TXN_8640842     CUST_07                      Furniture   Item_11_FUR   \n",
       "3650     TXN_7305728     CUST_20  Electric household essentials    Item_6_EHE   \n",
       "5320     TXN_4992740     CUST_25                  Milk Products   Item_1_MILK   \n",
       "\n",
       "       Price Per Unit  Quantity  Total Spent Payment Method  Location  \\\n",
       "3899             24.5       4.0         98.0           Cash  In-store   \n",
       "11848            38.0       5.0        190.0           Cash    Online   \n",
       "9043             20.0       3.0         60.0           Cash    Online   \n",
       "3650             12.5       6.0         75.0           Cash    Online   \n",
       "5320              5.0       6.0         30.0           Cash    Online   \n",
       "\n",
       "      Transaction Date Discount Applied  \n",
       "3899        2023-03-10            False  \n",
       "11848       2023-04-30             True  \n",
       "9043        2024-09-22            False  \n",
       "3650        2023-02-09              NaN  \n",
       "5320        2023-11-28              NaN  "
      ]
     },
     "execution_count": 3,
     "metadata": {},
     "output_type": "execute_result"
    }
   ],
   "source": [
    "dfm.sample(5)"
   ]
  },
  {
   "cell_type": "code",
   "execution_count": 4,
   "id": "2ddf6b51",
   "metadata": {},
   "outputs": [
    {
     "data": {
      "text/plain": [
       "Transaction ID              object\n",
       "Customer ID                 object\n",
       "Category                    object\n",
       "Item                        object\n",
       "Price Per Unit             float64\n",
       "Quantity                   float64\n",
       "Total Spent                float64\n",
       "Payment Method              object\n",
       "Location                    object\n",
       "Transaction Date    datetime64[ns]\n",
       "Discount Applied            object\n",
       "dtype: object"
      ]
     },
     "execution_count": 4,
     "metadata": {},
     "output_type": "execute_result"
    }
   ],
   "source": [
    "dfm['Transaction Date'] = pd.to_datetime(dfm['Transaction Date'])\n",
    "dfm.dtypes # mengganti tipe data pada colom Transaction Date become datetime"
   ]
  },
  {
   "cell_type": "markdown",
   "id": "5747eab8",
   "metadata": {},
   "source": [
    "# Exploratory Data Analysis (EDA)"
   ]
  },
  {
   "cell_type": "markdown",
   "id": "d7edab2f",
   "metadata": {},
   "source": [
    "## Deskripsi statistik (mean, median, standard deviation, dll.)"
   ]
  },
  {
   "cell_type": "code",
   "execution_count": 5,
   "id": "41eec26b",
   "metadata": {},
   "outputs": [
    {
     "data": {
      "text/html": [
       "<div>\n",
       "<style scoped>\n",
       "    .dataframe tbody tr th:only-of-type {\n",
       "        vertical-align: middle;\n",
       "    }\n",
       "\n",
       "    .dataframe tbody tr th {\n",
       "        vertical-align: top;\n",
       "    }\n",
       "\n",
       "    .dataframe thead th {\n",
       "        text-align: right;\n",
       "    }\n",
       "</style>\n",
       "<table border=\"1\" class=\"dataframe\">\n",
       "  <thead>\n",
       "    <tr style=\"text-align: right;\">\n",
       "      <th></th>\n",
       "      <th>Price Per Unit</th>\n",
       "      <th>Quantity</th>\n",
       "      <th>Total Spent</th>\n",
       "      <th>Transaction Date</th>\n",
       "    </tr>\n",
       "  </thead>\n",
       "  <tbody>\n",
       "    <tr>\n",
       "      <th>count</th>\n",
       "      <td>11966.000000</td>\n",
       "      <td>11971.000000</td>\n",
       "      <td>11971.000000</td>\n",
       "      <td>12575</td>\n",
       "    </tr>\n",
       "    <tr>\n",
       "      <th>mean</th>\n",
       "      <td>23.365912</td>\n",
       "      <td>5.536380</td>\n",
       "      <td>129.652577</td>\n",
       "      <td>2023-07-12 20:23:41.105368064</td>\n",
       "    </tr>\n",
       "    <tr>\n",
       "      <th>min</th>\n",
       "      <td>5.000000</td>\n",
       "      <td>1.000000</td>\n",
       "      <td>5.000000</td>\n",
       "      <td>2022-01-01 00:00:00</td>\n",
       "    </tr>\n",
       "    <tr>\n",
       "      <th>25%</th>\n",
       "      <td>14.000000</td>\n",
       "      <td>3.000000</td>\n",
       "      <td>51.000000</td>\n",
       "      <td>2022-09-30 00:00:00</td>\n",
       "    </tr>\n",
       "    <tr>\n",
       "      <th>50%</th>\n",
       "      <td>23.000000</td>\n",
       "      <td>6.000000</td>\n",
       "      <td>108.500000</td>\n",
       "      <td>2023-07-13 00:00:00</td>\n",
       "    </tr>\n",
       "    <tr>\n",
       "      <th>75%</th>\n",
       "      <td>33.500000</td>\n",
       "      <td>8.000000</td>\n",
       "      <td>192.000000</td>\n",
       "      <td>2024-04-24 00:00:00</td>\n",
       "    </tr>\n",
       "    <tr>\n",
       "      <th>max</th>\n",
       "      <td>41.000000</td>\n",
       "      <td>10.000000</td>\n",
       "      <td>410.000000</td>\n",
       "      <td>2025-01-18 00:00:00</td>\n",
       "    </tr>\n",
       "    <tr>\n",
       "      <th>std</th>\n",
       "      <td>10.743519</td>\n",
       "      <td>2.857883</td>\n",
       "      <td>94.750697</td>\n",
       "      <td>NaN</td>\n",
       "    </tr>\n",
       "  </tbody>\n",
       "</table>\n",
       "</div>"
      ],
      "text/plain": [
       "       Price Per Unit      Quantity   Total Spent  \\\n",
       "count    11966.000000  11971.000000  11971.000000   \n",
       "mean        23.365912      5.536380    129.652577   \n",
       "min          5.000000      1.000000      5.000000   \n",
       "25%         14.000000      3.000000     51.000000   \n",
       "50%         23.000000      6.000000    108.500000   \n",
       "75%         33.500000      8.000000    192.000000   \n",
       "max         41.000000     10.000000    410.000000   \n",
       "std         10.743519      2.857883     94.750697   \n",
       "\n",
       "                    Transaction Date  \n",
       "count                          12575  \n",
       "mean   2023-07-12 20:23:41.105368064  \n",
       "min              2022-01-01 00:00:00  \n",
       "25%              2022-09-30 00:00:00  \n",
       "50%              2023-07-13 00:00:00  \n",
       "75%              2024-04-24 00:00:00  \n",
       "max              2025-01-18 00:00:00  \n",
       "std                              NaN  "
      ]
     },
     "execution_count": 5,
     "metadata": {},
     "output_type": "execute_result"
    }
   ],
   "source": [
    "dfm.describe()"
   ]
  },
  {
   "cell_type": "markdown",
   "id": "603cb18b",
   "metadata": {},
   "source": [
    "## Identifikasi dan penanganan missing value"
   ]
  },
  {
   "cell_type": "code",
   "execution_count": 6,
   "id": "30242355",
   "metadata": {},
   "outputs": [
    {
     "data": {
      "text/plain": [
       "Transaction ID       0.000000\n",
       "Customer ID          0.000000\n",
       "Category             0.000000\n",
       "Item                 9.646123\n",
       "Price Per Unit       4.842942\n",
       "Quantity             4.803181\n",
       "Total Spent          4.803181\n",
       "Payment Method       0.000000\n",
       "Location             0.000000\n",
       "Transaction Date     0.000000\n",
       "Discount Applied    33.391650\n",
       "dtype: float64"
      ]
     },
     "execution_count": 6,
     "metadata": {},
     "output_type": "execute_result"
    }
   ],
   "source": [
    "# code ini berfungsi untuk mencari value kosong dan menjumlahkannnya\n",
    "dfm.isnull().sum() / len(dfm) * 100"
   ]
  },
  {
   "cell_type": "code",
   "execution_count": 7,
   "id": "46538088",
   "metadata": {},
   "outputs": [],
   "source": [
    "# code ini berfungsi untuk mengisi value kosong menggunakan nilai mean pada colom Price Per Unit\n",
    "dfm['Price Per Unit'] = dfm['Price Per Unit'].fillna(dfm['Price Per Unit'].mean())"
   ]
  },
  {
   "cell_type": "code",
   "execution_count": 8,
   "id": "e7015b84",
   "metadata": {},
   "outputs": [],
   "source": [
    "# code ini berfungsi untuk mengisi value kosong menggunakan nilai mean pada colom Quantity\n",
    "dfm['Quantity'] = dfm['Quantity'].fillna(dfm['Quantity'].mean())"
   ]
  },
  {
   "cell_type": "code",
   "execution_count": 9,
   "id": "b62b8991",
   "metadata": {},
   "outputs": [],
   "source": [
    "# code ini berfungsi untuk mengisi value kosong menggunakan nilai mean pada colom Total Spent\n",
    "dfm['Total Spent'] = dfm['Total Spent'].fillna(dfm['Total Spent'].mean())"
   ]
  },
  {
   "cell_type": "code",
   "execution_count": 10,
   "id": "44f49e60",
   "metadata": {},
   "outputs": [],
   "source": [
    "# code ini berfungsi untuk mengisi value kosong dengan 'Tidak Diketahui'\n",
    "dfm['Item'] = dfm['Item'].fillna('Tidak Diketahui')"
   ]
  },
  {
   "cell_type": "code",
   "execution_count": 11,
   "id": "9dd9401d",
   "metadata": {},
   "outputs": [],
   "source": [
    "dfm['Discount Applied'] = dfm['Discount Applied'].fillna('Tidak Diketahui')"
   ]
  },
  {
   "cell_type": "markdown",
   "id": "40e34a7a",
   "metadata": {},
   "source": [
    "## Identifikasi dan penanganan data duplikat\n"
   ]
  },
  {
   "cell_type": "code",
   "execution_count": 12,
   "id": "9b1a02c0",
   "metadata": {},
   "outputs": [
    {
     "data": {
      "text/plain": [
       "np.int64(0)"
      ]
     },
     "execution_count": 12,
     "metadata": {},
     "output_type": "execute_result"
    }
   ],
   "source": [
    "# code ini berfungsi untuk menjumlahkan data yg terduplikat\n",
    "dfm.duplicated().sum()"
   ]
  },
  {
   "cell_type": "markdown",
   "id": "5d0738b4",
   "metadata": {},
   "source": [
    "## Analisis distribusi variabel numerik dan kategorikal"
   ]
  },
  {
   "cell_type": "code",
   "execution_count": 13,
   "id": "07f8fedb",
   "metadata": {},
   "outputs": [
    {
     "data": {
      "text/html": [
       "<div>\n",
       "<style scoped>\n",
       "    .dataframe tbody tr th:only-of-type {\n",
       "        vertical-align: middle;\n",
       "    }\n",
       "\n",
       "    .dataframe tbody tr th {\n",
       "        vertical-align: top;\n",
       "    }\n",
       "\n",
       "    .dataframe thead th {\n",
       "        text-align: right;\n",
       "    }\n",
       "</style>\n",
       "<table border=\"1\" class=\"dataframe\">\n",
       "  <thead>\n",
       "    <tr style=\"text-align: right;\">\n",
       "      <th></th>\n",
       "      <th>Transaction ID</th>\n",
       "      <th>Customer ID</th>\n",
       "      <th>Category</th>\n",
       "      <th>Item</th>\n",
       "      <th>Price Per Unit</th>\n",
       "      <th>Quantity</th>\n",
       "      <th>Total Spent</th>\n",
       "      <th>Payment Method</th>\n",
       "      <th>Location</th>\n",
       "      <th>Transaction Date</th>\n",
       "      <th>Discount Applied</th>\n",
       "    </tr>\n",
       "  </thead>\n",
       "  <tbody>\n",
       "    <tr>\n",
       "      <th>9112</th>\n",
       "      <td>TXN_8702111</td>\n",
       "      <td>CUST_02</td>\n",
       "      <td>Computers and electric accessories</td>\n",
       "      <td>Item_13_CEA</td>\n",
       "      <td>23.0</td>\n",
       "      <td>7.0</td>\n",
       "      <td>161.0</td>\n",
       "      <td>Cash</td>\n",
       "      <td>Online</td>\n",
       "      <td>2024-02-03</td>\n",
       "      <td>False</td>\n",
       "    </tr>\n",
       "    <tr>\n",
       "      <th>3505</th>\n",
       "      <td>TXN_5119908</td>\n",
       "      <td>CUST_24</td>\n",
       "      <td>Butchers</td>\n",
       "      <td>Item_12_BUT</td>\n",
       "      <td>21.5</td>\n",
       "      <td>10.0</td>\n",
       "      <td>215.0</td>\n",
       "      <td>Cash</td>\n",
       "      <td>In-store</td>\n",
       "      <td>2024-05-14</td>\n",
       "      <td>True</td>\n",
       "    </tr>\n",
       "    <tr>\n",
       "      <th>6409</th>\n",
       "      <td>TXN_4889414</td>\n",
       "      <td>CUST_22</td>\n",
       "      <td>Butchers</td>\n",
       "      <td>Item_18_BUT</td>\n",
       "      <td>30.5</td>\n",
       "      <td>10.0</td>\n",
       "      <td>305.0</td>\n",
       "      <td>Digital Wallet</td>\n",
       "      <td>Online</td>\n",
       "      <td>2024-10-09</td>\n",
       "      <td>Tidak Diketahui</td>\n",
       "    </tr>\n",
       "  </tbody>\n",
       "</table>\n",
       "</div>"
      ],
      "text/plain": [
       "     Transaction ID Customer ID                            Category  \\\n",
       "9112    TXN_8702111     CUST_02  Computers and electric accessories   \n",
       "3505    TXN_5119908     CUST_24                            Butchers   \n",
       "6409    TXN_4889414     CUST_22                            Butchers   \n",
       "\n",
       "             Item  Price Per Unit  Quantity  Total Spent  Payment Method  \\\n",
       "9112  Item_13_CEA            23.0       7.0        161.0            Cash   \n",
       "3505  Item_12_BUT            21.5      10.0        215.0            Cash   \n",
       "6409  Item_18_BUT            30.5      10.0        305.0  Digital Wallet   \n",
       "\n",
       "      Location Transaction Date Discount Applied  \n",
       "9112    Online       2024-02-03            False  \n",
       "3505  In-store       2024-05-14             True  \n",
       "6409    Online       2024-10-09  Tidak Diketahui  "
      ]
     },
     "execution_count": 13,
     "metadata": {},
     "output_type": "execute_result"
    }
   ],
   "source": [
    "dfm.sample(3)"
   ]
  },
  {
   "cell_type": "code",
   "execution_count": 14,
   "id": "8160a01c",
   "metadata": {},
   "outputs": [
    {
     "name": "stdout",
     "output_type": "stream",
     "text": [
      "<class 'pandas.core.frame.DataFrame'>\n",
      "RangeIndex: 12575 entries, 0 to 12574\n",
      "Data columns (total 11 columns):\n",
      " #   Column            Non-Null Count  Dtype         \n",
      "---  ------            --------------  -----         \n",
      " 0   Transaction ID    12575 non-null  object        \n",
      " 1   Customer ID       12575 non-null  object        \n",
      " 2   Category          12575 non-null  object        \n",
      " 3   Item              12575 non-null  object        \n",
      " 4   Price Per Unit    12575 non-null  float64       \n",
      " 5   Quantity          12575 non-null  float64       \n",
      " 6   Total Spent       12575 non-null  float64       \n",
      " 7   Payment Method    12575 non-null  object        \n",
      " 8   Location          12575 non-null  object        \n",
      " 9   Transaction Date  12575 non-null  datetime64[ns]\n",
      " 10  Discount Applied  12575 non-null  object        \n",
      "dtypes: datetime64[ns](1), float64(3), object(7)\n",
      "memory usage: 1.1+ MB\n"
     ]
    }
   ],
   "source": [
    "dfm.info()"
   ]
  },
  {
   "cell_type": "code",
   "execution_count": 15,
   "id": "98013846",
   "metadata": {},
   "outputs": [],
   "source": [
    "# analisa kategorikal\n",
    "kategori = dfm['Category'].value_counts()\n",
    "payment = dfm['Payment Method'].value_counts()\n",
    "lokasi = dfm['Location'].value_counts()"
   ]
  },
  {
   "cell_type": "code",
   "execution_count": 16,
   "id": "4dfe15a4",
   "metadata": {},
   "outputs": [
    {
     "data": {
      "text/plain": [
       "Location\n",
       "Online      6354\n",
       "In-store    6221\n",
       "Name: count, dtype: int64"
      ]
     },
     "execution_count": 16,
     "metadata": {},
     "output_type": "execute_result"
    }
   ],
   "source": [
    "lokasi"
   ]
  },
  {
   "cell_type": "code",
   "execution_count": 17,
   "id": "3b21789d",
   "metadata": {},
   "outputs": [
    {
     "data": {
      "text/plain": [
       "Payment Method\n",
       "Cash              4310\n",
       "Digital Wallet    4144\n",
       "Credit Card       4121\n",
       "Name: count, dtype: int64"
      ]
     },
     "execution_count": 17,
     "metadata": {},
     "output_type": "execute_result"
    }
   ],
   "source": [
    "payment"
   ]
  },
  {
   "cell_type": "code",
   "execution_count": 18,
   "id": "f2e106ca",
   "metadata": {},
   "outputs": [
    {
     "data": {
      "text/plain": [
       "Category\n",
       "Electric household essentials         1591\n",
       "Furniture                             1591\n",
       "Food                                  1588\n",
       "Milk Products                         1584\n",
       "Butchers                              1568\n",
       "Beverages                             1567\n",
       "Computers and electric accessories    1558\n",
       "Patisserie                            1528\n",
       "Name: count, dtype: int64"
      ]
     },
     "execution_count": 18,
     "metadata": {},
     "output_type": "execute_result"
    }
   ],
   "source": [
    "kategori"
   ]
  },
  {
   "cell_type": "code",
   "execution_count": 19,
   "id": "41f54db8",
   "metadata": {},
   "outputs": [
    {
     "data": {
      "text/html": [
       "<div>\n",
       "<style scoped>\n",
       "    .dataframe tbody tr th:only-of-type {\n",
       "        vertical-align: middle;\n",
       "    }\n",
       "\n",
       "    .dataframe tbody tr th {\n",
       "        vertical-align: top;\n",
       "    }\n",
       "\n",
       "    .dataframe thead th {\n",
       "        text-align: right;\n",
       "    }\n",
       "</style>\n",
       "<table border=\"1\" class=\"dataframe\">\n",
       "  <thead>\n",
       "    <tr style=\"text-align: right;\">\n",
       "      <th></th>\n",
       "      <th>Price Per Unit</th>\n",
       "      <th>Quantity</th>\n",
       "      <th>Total Spent</th>\n",
       "      <th>Transaction Date</th>\n",
       "    </tr>\n",
       "  </thead>\n",
       "  <tbody>\n",
       "    <tr>\n",
       "      <th>count</th>\n",
       "      <td>12575.000000</td>\n",
       "      <td>12575.000000</td>\n",
       "      <td>12575.000000</td>\n",
       "      <td>12575</td>\n",
       "    </tr>\n",
       "    <tr>\n",
       "      <th>mean</th>\n",
       "      <td>23.365912</td>\n",
       "      <td>5.536380</td>\n",
       "      <td>129.652577</td>\n",
       "      <td>2023-07-12 20:23:41.105368064</td>\n",
       "    </tr>\n",
       "    <tr>\n",
       "      <th>min</th>\n",
       "      <td>5.000000</td>\n",
       "      <td>1.000000</td>\n",
       "      <td>5.000000</td>\n",
       "      <td>2022-01-01 00:00:00</td>\n",
       "    </tr>\n",
       "    <tr>\n",
       "      <th>25%</th>\n",
       "      <td>14.000000</td>\n",
       "      <td>3.000000</td>\n",
       "      <td>55.000000</td>\n",
       "      <td>2022-09-30 00:00:00</td>\n",
       "    </tr>\n",
       "    <tr>\n",
       "      <th>50%</th>\n",
       "      <td>23.365912</td>\n",
       "      <td>5.536380</td>\n",
       "      <td>112.500000</td>\n",
       "      <td>2023-07-13 00:00:00</td>\n",
       "    </tr>\n",
       "    <tr>\n",
       "      <th>75%</th>\n",
       "      <td>32.000000</td>\n",
       "      <td>8.000000</td>\n",
       "      <td>184.000000</td>\n",
       "      <td>2024-04-24 00:00:00</td>\n",
       "    </tr>\n",
       "    <tr>\n",
       "      <th>max</th>\n",
       "      <td>41.000000</td>\n",
       "      <td>10.000000</td>\n",
       "      <td>410.000000</td>\n",
       "      <td>2025-01-18 00:00:00</td>\n",
       "    </tr>\n",
       "    <tr>\n",
       "      <th>std</th>\n",
       "      <td>10.480118</td>\n",
       "      <td>2.788398</td>\n",
       "      <td>92.446987</td>\n",
       "      <td>NaN</td>\n",
       "    </tr>\n",
       "  </tbody>\n",
       "</table>\n",
       "</div>"
      ],
      "text/plain": [
       "       Price Per Unit      Quantity   Total Spent  \\\n",
       "count    12575.000000  12575.000000  12575.000000   \n",
       "mean        23.365912      5.536380    129.652577   \n",
       "min          5.000000      1.000000      5.000000   \n",
       "25%         14.000000      3.000000     55.000000   \n",
       "50%         23.365912      5.536380    112.500000   \n",
       "75%         32.000000      8.000000    184.000000   \n",
       "max         41.000000     10.000000    410.000000   \n",
       "std         10.480118      2.788398     92.446987   \n",
       "\n",
       "                    Transaction Date  \n",
       "count                          12575  \n",
       "mean   2023-07-12 20:23:41.105368064  \n",
       "min              2022-01-01 00:00:00  \n",
       "25%              2022-09-30 00:00:00  \n",
       "50%              2023-07-13 00:00:00  \n",
       "75%              2024-04-24 00:00:00  \n",
       "max              2025-01-18 00:00:00  \n",
       "std                              NaN  "
      ]
     },
     "execution_count": 19,
     "metadata": {},
     "output_type": "execute_result"
    }
   ],
   "source": [
    "dfm.describe()"
   ]
  },
  {
   "cell_type": "markdown",
   "id": "42d6f0dc",
   "metadata": {},
   "source": [
    "## Gunakan groupby() untuk agregasi"
   ]
  },
  {
   "cell_type": "code",
   "execution_count": 20,
   "id": "176a9b81",
   "metadata": {},
   "outputs": [
    {
     "name": "stdout",
     "output_type": "stream",
     "text": [
      "<class 'pandas.core.frame.DataFrame'>\n",
      "RangeIndex: 12575 entries, 0 to 12574\n",
      "Data columns (total 11 columns):\n",
      " #   Column            Non-Null Count  Dtype         \n",
      "---  ------            --------------  -----         \n",
      " 0   Transaction ID    12575 non-null  object        \n",
      " 1   Customer ID       12575 non-null  object        \n",
      " 2   Category          12575 non-null  object        \n",
      " 3   Item              12575 non-null  object        \n",
      " 4   Price Per Unit    12575 non-null  float64       \n",
      " 5   Quantity          12575 non-null  float64       \n",
      " 6   Total Spent       12575 non-null  float64       \n",
      " 7   Payment Method    12575 non-null  object        \n",
      " 8   Location          12575 non-null  object        \n",
      " 9   Transaction Date  12575 non-null  datetime64[ns]\n",
      " 10  Discount Applied  12575 non-null  object        \n",
      "dtypes: datetime64[ns](1), float64(3), object(7)\n",
      "memory usage: 1.1+ MB\n"
     ]
    }
   ],
   "source": [
    "dfm.info()"
   ]
  },
  {
   "cell_type": "code",
   "execution_count": 21,
   "id": "2a187ade",
   "metadata": {},
   "outputs": [
    {
     "data": {
      "text/html": [
       "<div>\n",
       "<style scoped>\n",
       "    .dataframe tbody tr th:only-of-type {\n",
       "        vertical-align: middle;\n",
       "    }\n",
       "\n",
       "    .dataframe tbody tr th {\n",
       "        vertical-align: top;\n",
       "    }\n",
       "\n",
       "    .dataframe thead th {\n",
       "        text-align: right;\n",
       "    }\n",
       "</style>\n",
       "<table border=\"1\" class=\"dataframe\">\n",
       "  <thead>\n",
       "    <tr style=\"text-align: right;\">\n",
       "      <th></th>\n",
       "      <th>mean</th>\n",
       "      <th>std</th>\n",
       "      <th>min</th>\n",
       "      <th>max</th>\n",
       "      <th>median</th>\n",
       "      <th>sum</th>\n",
       "    </tr>\n",
       "    <tr>\n",
       "      <th>Category</th>\n",
       "      <th></th>\n",
       "      <th></th>\n",
       "      <th></th>\n",
       "      <th></th>\n",
       "      <th></th>\n",
       "      <th></th>\n",
       "    </tr>\n",
       "  </thead>\n",
       "  <tbody>\n",
       "    <tr>\n",
       "      <th>Beverages</th>\n",
       "      <td>23.316687</td>\n",
       "      <td>10.741895</td>\n",
       "      <td>5.0</td>\n",
       "      <td>41.0</td>\n",
       "      <td>24.500000</td>\n",
       "      <td>36537.247911</td>\n",
       "    </tr>\n",
       "    <tr>\n",
       "      <th>Butchers</th>\n",
       "      <td>25.031214</td>\n",
       "      <td>10.867259</td>\n",
       "      <td>5.0</td>\n",
       "      <td>41.0</td>\n",
       "      <td>26.000000</td>\n",
       "      <td>39248.943381</td>\n",
       "    </tr>\n",
       "    <tr>\n",
       "      <th>Computers and electric accessories</th>\n",
       "      <td>23.165130</td>\n",
       "      <td>9.437647</td>\n",
       "      <td>5.0</td>\n",
       "      <td>41.0</td>\n",
       "      <td>23.365912</td>\n",
       "      <td>36091.272940</td>\n",
       "    </tr>\n",
       "    <tr>\n",
       "      <th>Electric household essentials</th>\n",
       "      <td>24.335265</td>\n",
       "      <td>10.254058</td>\n",
       "      <td>5.0</td>\n",
       "      <td>41.0</td>\n",
       "      <td>23.365912</td>\n",
       "      <td>38717.407028</td>\n",
       "    </tr>\n",
       "    <tr>\n",
       "      <th>Food</th>\n",
       "      <td>23.107455</td>\n",
       "      <td>9.951204</td>\n",
       "      <td>5.0</td>\n",
       "      <td>41.0</td>\n",
       "      <td>23.000000</td>\n",
       "      <td>36694.638852</td>\n",
       "    </tr>\n",
       "    <tr>\n",
       "      <th>Furniture</th>\n",
       "      <td>23.363786</td>\n",
       "      <td>11.498377</td>\n",
       "      <td>5.0</td>\n",
       "      <td>41.0</td>\n",
       "      <td>23.365912</td>\n",
       "      <td>37171.784264</td>\n",
       "    </tr>\n",
       "    <tr>\n",
       "      <th>Milk Products</th>\n",
       "      <td>21.526010</td>\n",
       "      <td>10.507489</td>\n",
       "      <td>5.0</td>\n",
       "      <td>41.0</td>\n",
       "      <td>23.000000</td>\n",
       "      <td>34097.200234</td>\n",
       "    </tr>\n",
       "    <tr>\n",
       "      <th>Patisserie</th>\n",
       "      <td>23.081051</td>\n",
       "      <td>10.100003</td>\n",
       "      <td>5.0</td>\n",
       "      <td>41.0</td>\n",
       "      <td>23.000000</td>\n",
       "      <td>35267.845646</td>\n",
       "    </tr>\n",
       "  </tbody>\n",
       "</table>\n",
       "</div>"
      ],
      "text/plain": [
       "                                         mean        std  min   max  \\\n",
       "Category                                                              \n",
       "Beverages                           23.316687  10.741895  5.0  41.0   \n",
       "Butchers                            25.031214  10.867259  5.0  41.0   \n",
       "Computers and electric accessories  23.165130   9.437647  5.0  41.0   \n",
       "Electric household essentials       24.335265  10.254058  5.0  41.0   \n",
       "Food                                23.107455   9.951204  5.0  41.0   \n",
       "Furniture                           23.363786  11.498377  5.0  41.0   \n",
       "Milk Products                       21.526010  10.507489  5.0  41.0   \n",
       "Patisserie                          23.081051  10.100003  5.0  41.0   \n",
       "\n",
       "                                       median           sum  \n",
       "Category                                                     \n",
       "Beverages                           24.500000  36537.247911  \n",
       "Butchers                            26.000000  39248.943381  \n",
       "Computers and electric accessories  23.365912  36091.272940  \n",
       "Electric household essentials       23.365912  38717.407028  \n",
       "Food                                23.000000  36694.638852  \n",
       "Furniture                           23.365912  37171.784264  \n",
       "Milk Products                       23.000000  34097.200234  \n",
       "Patisserie                          23.000000  35267.845646  "
      ]
     },
     "execution_count": 21,
     "metadata": {},
     "output_type": "execute_result"
    }
   ],
   "source": [
    "# code ini berfungsi menampilkan aggregasi(mean, median dll) dengan rumus code sebagai berikut:\n",
    "# dfm.groupby('kolom kategori')['kolom numerik']\n",
    "dfm.groupby('Category')['Price Per Unit'].agg(['mean', 'std', 'min', 'max', 'median', 'sum'])"
   ]
  },
  {
   "cell_type": "code",
   "execution_count": 22,
   "id": "71815d56",
   "metadata": {},
   "outputs": [
    {
     "data": {
      "text/html": [
       "<div>\n",
       "<style scoped>\n",
       "    .dataframe tbody tr th:only-of-type {\n",
       "        vertical-align: middle;\n",
       "    }\n",
       "\n",
       "    .dataframe tbody tr th {\n",
       "        vertical-align: top;\n",
       "    }\n",
       "\n",
       "    .dataframe thead th {\n",
       "        text-align: right;\n",
       "    }\n",
       "</style>\n",
       "<table border=\"1\" class=\"dataframe\">\n",
       "  <thead>\n",
       "    <tr style=\"text-align: right;\">\n",
       "      <th></th>\n",
       "      <th>mean</th>\n",
       "      <th>std</th>\n",
       "      <th>min</th>\n",
       "      <th>max</th>\n",
       "      <th>median</th>\n",
       "      <th>sum</th>\n",
       "    </tr>\n",
       "    <tr>\n",
       "      <th>Payment Method</th>\n",
       "      <th></th>\n",
       "      <th></th>\n",
       "      <th></th>\n",
       "      <th></th>\n",
       "      <th></th>\n",
       "      <th></th>\n",
       "    </tr>\n",
       "  </thead>\n",
       "  <tbody>\n",
       "    <tr>\n",
       "      <th>Cash</th>\n",
       "      <td>130.985634</td>\n",
       "      <td>92.477709</td>\n",
       "      <td>5.0</td>\n",
       "      <td>410.0</td>\n",
       "      <td>114.0</td>\n",
       "      <td>564548.083452</td>\n",
       "    </tr>\n",
       "    <tr>\n",
       "      <th>Credit Card</th>\n",
       "      <td>129.151808</td>\n",
       "      <td>92.956090</td>\n",
       "      <td>5.0</td>\n",
       "      <td>410.0</td>\n",
       "      <td>112.5</td>\n",
       "      <td>532234.599950</td>\n",
       "    </tr>\n",
       "    <tr>\n",
       "      <th>Digital Wallet</th>\n",
       "      <td>128.764110</td>\n",
       "      <td>91.912508</td>\n",
       "      <td>5.0</td>\n",
       "      <td>410.0</td>\n",
       "      <td>112.5</td>\n",
       "      <td>533598.473143</td>\n",
       "    </tr>\n",
       "  </tbody>\n",
       "</table>\n",
       "</div>"
      ],
      "text/plain": [
       "                      mean        std  min    max  median            sum\n",
       "Payment Method                                                          \n",
       "Cash            130.985634  92.477709  5.0  410.0   114.0  564548.083452\n",
       "Credit Card     129.151808  92.956090  5.0  410.0   112.5  532234.599950\n",
       "Digital Wallet  128.764110  91.912508  5.0  410.0   112.5  533598.473143"
      ]
     },
     "execution_count": 22,
     "metadata": {},
     "output_type": "execute_result"
    }
   ],
   "source": [
    "dfm.groupby('Payment Method')['Total Spent'].agg(['mean', 'std', 'min', 'max', 'median', 'sum'])"
   ]
  },
  {
   "cell_type": "markdown",
   "id": "6233f68d",
   "metadata": {},
   "source": [
    "## Deteksi dan tangani outlier"
   ]
  },
  {
   "cell_type": "code",
   "execution_count": 23,
   "id": "51274a48",
   "metadata": {},
   "outputs": [
    {
     "data": {
      "image/png": "[encoded data removed]",
      "text/plain": [
       "<Figure size 1000x600 with 1 Axes>"
      ]
     },
     "metadata": {},
     "output_type": "display_data"
    }
   ],
   "source": [
    "plt.figure(figsize=(10, 6))\n",
    "plt.boxplot(dfm['Total Spent'])\n",
    "plt.title('total spent in dataset')\n",
    "plt.tight_layout()\n",
    "plt.grid()\n",
    "plt.show()"
   ]
  },
  {
   "cell_type": "code",
   "execution_count": 24,
   "id": "835915ec",
   "metadata": {},
   "outputs": [
    {
     "data": {
      "image/png": "[encoded data removed]",
      "text/plain": [
       "<Figure size 1000x600 with 1 Axes>"
      ]
     },
     "metadata": {},
     "output_type": "display_data"
    }
   ],
   "source": [
    "plt.figure(figsize=(10, 6))\n",
    "plt.boxplot(dfm['Price Per Unit'])\n",
    "plt.title('price per unit in dataset')\n",
    "plt.tight_layout()\n",
    "plt.grid()\n",
    "plt.show()"
   ]
  },
  {
   "cell_type": "code",
   "execution_count": 25,
   "id": "8686acc5",
   "metadata": {},
   "outputs": [
    {
     "data": {
      "image/png": "[encoded data removed]",
      "text/plain": [
       "<Figure size 1000x600 with 1 Axes>"
      ]
     },
     "metadata": {},
     "output_type": "display_data"
    }
   ],
   "source": [
    "plt.figure(figsize=(10, 6))\n",
    "plt.boxplot(dfm['Quantity'])\n",
    "plt.title('quantity in dataset')\n",
    "plt.tight_layout()\n",
    "plt.grid()\n",
    "plt.show()"
   ]
  },
  {
   "cell_type": "markdown",
   "id": "ef282c05",
   "metadata": {},
   "source": [
    "## Hitung dan analisis matriks korelasi\n"
   ]
  },
  {
   "cell_type": "code",
   "execution_count": 26,
   "id": "68f954f9",
   "metadata": {},
   "outputs": [
    {
     "data": {
      "text/html": [
       "<div>\n",
       "<style scoped>\n",
       "    .dataframe tbody tr th:only-of-type {\n",
       "        vertical-align: middle;\n",
       "    }\n",
       "\n",
       "    .dataframe tbody tr th {\n",
       "        vertical-align: top;\n",
       "    }\n",
       "\n",
       "    .dataframe thead th {\n",
       "        text-align: right;\n",
       "    }\n",
       "</style>\n",
       "<table border=\"1\" class=\"dataframe\">\n",
       "  <thead>\n",
       "    <tr style=\"text-align: right;\">\n",
       "      <th></th>\n",
       "      <th>Price Per Unit</th>\n",
       "      <th>Quantity</th>\n",
       "      <th>Total Spent</th>\n",
       "    </tr>\n",
       "  </thead>\n",
       "  <tbody>\n",
       "    <tr>\n",
       "      <th>Price Per Unit</th>\n",
       "      <td>1.000000</td>\n",
       "      <td>0.011185</td>\n",
       "      <td>0.597953</td>\n",
       "    </tr>\n",
       "    <tr>\n",
       "      <th>Quantity</th>\n",
       "      <td>0.011185</td>\n",
       "      <td>1.000000</td>\n",
       "      <td>0.712069</td>\n",
       "    </tr>\n",
       "    <tr>\n",
       "      <th>Total Spent</th>\n",
       "      <td>0.597953</td>\n",
       "      <td>0.712069</td>\n",
       "      <td>1.000000</td>\n",
       "    </tr>\n",
       "  </tbody>\n",
       "</table>\n",
       "</div>"
      ],
      "text/plain": [
       "                Price Per Unit  Quantity  Total Spent\n",
       "Price Per Unit        1.000000  0.011185     0.597953\n",
       "Quantity              0.011185  1.000000     0.712069\n",
       "Total Spent           0.597953  0.712069     1.000000"
      ]
     },
     "execution_count": 26,
     "metadata": {},
     "output_type": "execute_result"
    }
   ],
   "source": [
    "# cara untuk menghitung korelasi matrix menggunakan pandas\n",
    "dfm.corr(numeric_only=True)"
   ]
  },
  {
   "cell_type": "markdown",
   "id": "74b66855",
   "metadata": {},
   "source": [
    "# Visualisasi Data: Gunakan grafik atau chart yang relevan (bar, histogram, pie, boxplot, heatmap, dll.)\n"
   ]
  },
  {
   "cell_type": "code",
   "execution_count": 27,
   "id": "455236ab",
   "metadata": {},
   "outputs": [
    {
     "data": {
      "text/plain": [
       "Index(['Transaction ID', 'Customer ID', 'Category', 'Item', 'Price Per Unit',\n",
       "       'Quantity', 'Total Spent', 'Payment Method', 'Location',\n",
       "       'Transaction Date', 'Discount Applied'],\n",
       "      dtype='object')"
      ]
     },
     "execution_count": 27,
     "metadata": {},
     "output_type": "execute_result"
    }
   ],
   "source": [
    "\n",
    "dfm.columns"
   ]
  },
  {
   "cell_type": "code",
   "execution_count": 28,
   "id": "cb47cb81",
   "metadata": {},
   "outputs": [
    {
     "data": {
      "text/html": [
       "<div>\n",
       "<style scoped>\n",
       "    .dataframe tbody tr th:only-of-type {\n",
       "        vertical-align: middle;\n",
       "    }\n",
       "\n",
       "    .dataframe tbody tr th {\n",
       "        vertical-align: top;\n",
       "    }\n",
       "\n",
       "    .dataframe thead th {\n",
       "        text-align: right;\n",
       "    }\n",
       "</style>\n",
       "<table border=\"1\" class=\"dataframe\">\n",
       "  <thead>\n",
       "    <tr style=\"text-align: right;\">\n",
       "      <th></th>\n",
       "      <th>Transaction ID</th>\n",
       "      <th>Customer ID</th>\n",
       "      <th>Category</th>\n",
       "      <th>Item</th>\n",
       "      <th>Price Per Unit</th>\n",
       "      <th>Quantity</th>\n",
       "      <th>Total Spent</th>\n",
       "      <th>Payment Method</th>\n",
       "      <th>Location</th>\n",
       "      <th>Transaction Date</th>\n",
       "      <th>Discount Applied</th>\n",
       "    </tr>\n",
       "  </thead>\n",
       "  <tbody>\n",
       "    <tr>\n",
       "      <th>2825</th>\n",
       "      <td>TXN_4284887</td>\n",
       "      <td>CUST_01</td>\n",
       "      <td>Computers and electric accessories</td>\n",
       "      <td>Item_2_CEA</td>\n",
       "      <td>6.5</td>\n",
       "      <td>9.0</td>\n",
       "      <td>58.5</td>\n",
       "      <td>Cash</td>\n",
       "      <td>Online</td>\n",
       "      <td>2022-10-26</td>\n",
       "      <td>True</td>\n",
       "    </tr>\n",
       "    <tr>\n",
       "      <th>766</th>\n",
       "      <td>TXN_2694098</td>\n",
       "      <td>CUST_09</td>\n",
       "      <td>Milk Products</td>\n",
       "      <td>Item_11_MILK</td>\n",
       "      <td>20.0</td>\n",
       "      <td>10.0</td>\n",
       "      <td>200.0</td>\n",
       "      <td>Cash</td>\n",
       "      <td>Online</td>\n",
       "      <td>2024-10-20</td>\n",
       "      <td>Tidak Diketahui</td>\n",
       "    </tr>\n",
       "    <tr>\n",
       "      <th>11872</th>\n",
       "      <td>TXN_5498300</td>\n",
       "      <td>CUST_04</td>\n",
       "      <td>Food</td>\n",
       "      <td>Item_5_FOOD</td>\n",
       "      <td>11.0</td>\n",
       "      <td>2.0</td>\n",
       "      <td>22.0</td>\n",
       "      <td>Credit Card</td>\n",
       "      <td>In-store</td>\n",
       "      <td>2024-10-18</td>\n",
       "      <td>False</td>\n",
       "    </tr>\n",
       "  </tbody>\n",
       "</table>\n",
       "</div>"
      ],
      "text/plain": [
       "      Transaction ID Customer ID                            Category  \\\n",
       "2825     TXN_4284887     CUST_01  Computers and electric accessories   \n",
       "766      TXN_2694098     CUST_09                       Milk Products   \n",
       "11872    TXN_5498300     CUST_04                                Food   \n",
       "\n",
       "               Item  Price Per Unit  Quantity  Total Spent Payment Method  \\\n",
       "2825     Item_2_CEA             6.5       9.0         58.5           Cash   \n",
       "766    Item_11_MILK            20.0      10.0        200.0           Cash   \n",
       "11872   Item_5_FOOD            11.0       2.0         22.0    Credit Card   \n",
       "\n",
       "       Location Transaction Date Discount Applied  \n",
       "2825     Online       2022-10-26             True  \n",
       "766      Online       2024-10-20  Tidak Diketahui  \n",
       "11872  In-store       2024-10-18            False  "
      ]
     },
     "execution_count": 28,
     "metadata": {},
     "output_type": "execute_result"
    }
   ],
   "source": [
    "dfm.sample(3)"
   ]
  },
  {
   "cell_type": "code",
   "execution_count": 29,
   "id": "2ffa3bf7",
   "metadata": {},
   "outputs": [
    {
     "data": {
      "text/html": [
       "<div>\n",
       "<style scoped>\n",
       "    .dataframe tbody tr th:only-of-type {\n",
       "        vertical-align: middle;\n",
       "    }\n",
       "\n",
       "    .dataframe tbody tr th {\n",
       "        vertical-align: top;\n",
       "    }\n",
       "\n",
       "    .dataframe thead th {\n",
       "        text-align: right;\n",
       "    }\n",
       "</style>\n",
       "<table border=\"1\" class=\"dataframe\">\n",
       "  <thead>\n",
       "    <tr style=\"text-align: right;\">\n",
       "      <th>Category</th>\n",
       "      <th>Beverages</th>\n",
       "      <th>Butchers</th>\n",
       "      <th>Computers and electric accessories</th>\n",
       "      <th>Electric household essentials</th>\n",
       "      <th>Food</th>\n",
       "      <th>Furniture</th>\n",
       "      <th>Milk Products</th>\n",
       "      <th>Patisserie</th>\n",
       "    </tr>\n",
       "    <tr>\n",
       "      <th>Location</th>\n",
       "      <th></th>\n",
       "      <th></th>\n",
       "      <th></th>\n",
       "      <th></th>\n",
       "      <th></th>\n",
       "      <th></th>\n",
       "      <th></th>\n",
       "      <th></th>\n",
       "    </tr>\n",
       "  </thead>\n",
       "  <tbody>\n",
       "    <tr>\n",
       "      <th>In-store</th>\n",
       "      <td>780</td>\n",
       "      <td>784</td>\n",
       "      <td>725</td>\n",
       "      <td>772</td>\n",
       "      <td>794</td>\n",
       "      <td>808</td>\n",
       "      <td>791</td>\n",
       "      <td>767</td>\n",
       "    </tr>\n",
       "    <tr>\n",
       "      <th>Online</th>\n",
       "      <td>787</td>\n",
       "      <td>784</td>\n",
       "      <td>833</td>\n",
       "      <td>819</td>\n",
       "      <td>794</td>\n",
       "      <td>783</td>\n",
       "      <td>793</td>\n",
       "      <td>761</td>\n",
       "    </tr>\n",
       "  </tbody>\n",
       "</table>\n",
       "</div>"
      ],
      "text/plain": [
       "Category  Beverages  Butchers  Computers and electric accessories  \\\n",
       "Location                                                            \n",
       "In-store        780       784                                 725   \n",
       "Online          787       784                                 833   \n",
       "\n",
       "Category  Electric household essentials  Food  Furniture  Milk Products  \\\n",
       "Location                                                                  \n",
       "In-store                            772   794        808            791   \n",
       "Online                              819   794        783            793   \n",
       "\n",
       "Category  Patisserie  \n",
       "Location              \n",
       "In-store         767  \n",
       "Online           761  "
      ]
     },
     "execution_count": 29,
     "metadata": {},
     "output_type": "execute_result"
    }
   ],
   "source": [
    "dfm.groupby([\"Location\", \"Category\"])[\"Transaction ID\"].count().unstack().fillna(0)"
   ]
  },
  {
   "cell_type": "code",
   "execution_count": 30,
   "id": "88dd28df",
   "metadata": {},
   "outputs": [
    {
     "data": {
      "text/plain": [
       "<Figure size 1000x1000 with 0 Axes>"
      ]
     },
     "metadata": {},
     "output_type": "display_data"
    },
    {
     "data": {
      "image/png": "[encoded data removed]",
      "text/plain": [
       "<Figure size 640x480 with 1 Axes>"
      ]
     },
     "metadata": {},
     "output_type": "display_data"
    }
   ],
   "source": [
    "plt.figure(figsize=(10,10))\n",
    "dfm.groupby([\"Location\", \"Category\"])[\"Transaction ID\"].count().unstack().plot(kind='bar') # kind berfungsi untuk mengubah bentuk grafik\n",
    "plt.title(\"Jumlah Customer Belanja di store and online in each category\")\n",
    "plt.xlabel('Tempat Transaksi')\n",
    "plt.ylabel('Jumlah Customer')\n",
    "plt.legend(['BVG', 'BTH','CEA', 'EHE', 'FD', 'FE', 'MP', 'PE'])\n",
    "plt.grid(alpha=1)\n",
    "plt.tight_layout()\n",
    "plt.show()"
   ]
  },
  {
   "cell_type": "markdown",
   "id": "9880be3c",
   "metadata": {},
   "source": [
    "insight:\n",
    "Dari graph saya mendapat insight bahwasanya lebih banya orang membeli barang itu via online than datang ketokonya"
   ]
  },
  {
   "cell_type": "code",
   "execution_count": 47,
   "id": "af0dd58d",
   "metadata": {},
   "outputs": [
    {
     "data": {
      "text/plain": [
       "Payment Method\n",
       "Cash              4310\n",
       "Digital Wallet    4144\n",
       "Credit Card       4121\n",
       "Name: count, dtype: int64"
      ]
     },
     "execution_count": 47,
     "metadata": {},
     "output_type": "execute_result"
    }
   ],
   "source": [
    "dfm['Payment Method'].value_counts()"
   ]
  },
  {
   "cell_type": "code",
   "execution_count": 31,
   "id": "1158e9fa",
   "metadata": {},
   "outputs": [
    {
     "data": {
      "image/png": "[encoded data removed]",
      "text/plain": [
       "<Figure size 1000x600 with 1 Axes>"
      ]
     },
     "metadata": {},
     "output_type": "display_data"
    }
   ],
   "source": [
    "plt.figure(figsize=(10,6))\n",
    "dfm[\"Payment Method\"].value_counts().plot(kind=\"bar\") # value_counts berfungsi untuk mendeteksi jumlah kemunculan unique value in colom\n",
    "plt.title(\"Distribusi Metode Pembayaran\")\n",
    "plt.ylabel(\"Jumlah Transaksi\")\n",
    "plt.tight_layout()\n",
    "plt.grid(alpha=1, linestyle=\"--\")\n",
    "plt.show()\n"
   ]
  },
  {
   "cell_type": "markdown",
   "id": "d57f633c",
   "metadata": {},
   "source": [
    "insight:\n",
    "Dari bar graph ini terdapat 3 payment method yang diukur yaitu cash, digital wallet & credit card. Dari ketiga payment method ini yang paling tinggi adalah cash, dengan selisih digital wallet 166 dan selisih credit card 189."
   ]
  },
  {
   "cell_type": "code",
   "execution_count": 52,
   "id": "e3213a79",
   "metadata": {},
   "outputs": [
    {
     "data": {
      "image/png": "[encoded data removed]",
      "text/plain": [
       "<Figure size 1000x1000 with 1 Axes>"
      ]
     },
     "metadata": {},
     "output_type": "display_data"
    }
   ],
   "source": [
    "tipe = dfm['Category'].value_counts()\n",
    "plt.figure(figsize=(10,10))\n",
    "dfm['Category'].value_counts().plot(kind=\"bar\")\n",
    "# plt.plot(tipe)\n",
    "\n",
    "plt.title('trend line category', fontsize=15)\n",
    "plt.xlabel('Category Unit')\n",
    "plt.ylabel('Count')\n",
    "plt.xticks(rotation=40, ha='right')\n",
    "plt.grid(alpha=1, linestyle= '--')\n",
    "plt.tight_layout()\n",
    "plt.show()"
   ]
  },
  {
   "cell_type": "markdown",
   "id": "6b5af699",
   "metadata": {},
   "source": [
    "insight:\n",
    "unit barang dari category Electric household essentials dan Furniture itu sama banyak dengan nilai 1591, unit barang dengan nilai terrendah adalah Patisseria yaitu 1528"
   ]
  },
  {
   "cell_type": "code",
   "execution_count": 53,
   "id": "8670415b",
   "metadata": {},
   "outputs": [
    {
     "data": {
      "text/plain": [
       "Category\n",
       "Electric household essentials         1591\n",
       "Furniture                             1591\n",
       "Food                                  1588\n",
       "Milk Products                         1584\n",
       "Butchers                              1568\n",
       "Beverages                             1567\n",
       "Computers and electric accessories    1558\n",
       "Patisserie                            1528\n",
       "Name: count, dtype: int64"
      ]
     },
     "execution_count": 53,
     "metadata": {},
     "output_type": "execute_result"
    }
   ],
   "source": [
    "tipe"
   ]
  },
  {
   "cell_type": "code",
   "execution_count": 34,
   "id": "c7b547e3",
   "metadata": {},
   "outputs": [
    {
     "data": {
      "image/png": "[encoded data removed]",
      "text/plain": [
       "<Figure size 1000x600 with 2 Axes>"
      ]
     },
     "metadata": {},
     "output_type": "display_data"
    }
   ],
   "source": [
    "import seaborn as sns\n",
    "\n",
    "plt.figure(figsize=(10,6))\n",
    "korelasi = dfm[[\"Price Per Unit\", \"Quantity\", \"Total Spent\"]].corr()\n",
    "sns.heatmap(korelasi, annot=True, cmap=\"coolwarm\", fmt=\".2f\")\n",
    "plt.title(\"Korelasi beberapa variabel\", fontsize=20)\n",
    "plt.tight_layout()\n",
    "plt.show()"
   ]
  },
  {
   "cell_type": "markdown",
   "id": "31ac572a",
   "metadata": {},
   "source": [
    "Insight:\n",
    "terdapat 3 variabel yang berkorelasi yaitu total spent berkolasi dengan price per unit(nilai 0.60) dan total spent berkorelasi dengan quantity(0.71)"
   ]
  },
  {
   "cell_type": "code",
   "execution_count": 60,
   "id": "7be06fe1",
   "metadata": {},
   "outputs": [
    {
     "data": {
      "text/html": [
       "<div>\n",
       "<style scoped>\n",
       "    .dataframe tbody tr th:only-of-type {\n",
       "        vertical-align: middle;\n",
       "    }\n",
       "\n",
       "    .dataframe tbody tr th {\n",
       "        vertical-align: top;\n",
       "    }\n",
       "\n",
       "    .dataframe thead th {\n",
       "        text-align: right;\n",
       "    }\n",
       "</style>\n",
       "<table border=\"1\" class=\"dataframe\">\n",
       "  <thead>\n",
       "    <tr style=\"text-align: right;\">\n",
       "      <th></th>\n",
       "      <th>Transaction ID</th>\n",
       "      <th>Customer ID</th>\n",
       "      <th>Category</th>\n",
       "      <th>Item</th>\n",
       "      <th>Price Per Unit</th>\n",
       "      <th>Quantity</th>\n",
       "      <th>Total Spent</th>\n",
       "      <th>Payment Method</th>\n",
       "      <th>Location</th>\n",
       "      <th>Transaction Date</th>\n",
       "      <th>Discount Applied</th>\n",
       "    </tr>\n",
       "  </thead>\n",
       "  <tbody>\n",
       "    <tr>\n",
       "      <th>9647</th>\n",
       "      <td>TXN_2119863</td>\n",
       "      <td>CUST_24</td>\n",
       "      <td>Patisserie</td>\n",
       "      <td>Tidak Diketahui</td>\n",
       "      <td>23.365912</td>\n",
       "      <td>10.00000</td>\n",
       "      <td>365.000000</td>\n",
       "      <td>Cash</td>\n",
       "      <td>Online</td>\n",
       "      <td>2024-12-24</td>\n",
       "      <td>True</td>\n",
       "    </tr>\n",
       "    <tr>\n",
       "      <th>4732</th>\n",
       "      <td>TXN_6976484</td>\n",
       "      <td>CUST_22</td>\n",
       "      <td>Furniture</td>\n",
       "      <td>Item_15_FUR</td>\n",
       "      <td>26.000000</td>\n",
       "      <td>10.00000</td>\n",
       "      <td>260.000000</td>\n",
       "      <td>Cash</td>\n",
       "      <td>In-store</td>\n",
       "      <td>2022-08-18</td>\n",
       "      <td>Tidak Diketahui</td>\n",
       "    </tr>\n",
       "    <tr>\n",
       "      <th>2453</th>\n",
       "      <td>TXN_4375011</td>\n",
       "      <td>CUST_19</td>\n",
       "      <td>Butchers</td>\n",
       "      <td>Tidak Diketahui</td>\n",
       "      <td>9.500000</td>\n",
       "      <td>5.53638</td>\n",
       "      <td>129.652577</td>\n",
       "      <td>Credit Card</td>\n",
       "      <td>In-store</td>\n",
       "      <td>2022-01-16</td>\n",
       "      <td>Tidak Diketahui</td>\n",
       "    </tr>\n",
       "  </tbody>\n",
       "</table>\n",
       "</div>"
      ],
      "text/plain": [
       "     Transaction ID Customer ID    Category             Item  Price Per Unit  \\\n",
       "9647    TXN_2119863     CUST_24  Patisserie  Tidak Diketahui       23.365912   \n",
       "4732    TXN_6976484     CUST_22   Furniture      Item_15_FUR       26.000000   \n",
       "2453    TXN_4375011     CUST_19    Butchers  Tidak Diketahui        9.500000   \n",
       "\n",
       "      Quantity  Total Spent Payment Method  Location Transaction Date  \\\n",
       "9647  10.00000   365.000000           Cash    Online       2024-12-24   \n",
       "4732  10.00000   260.000000           Cash  In-store       2022-08-18   \n",
       "2453   5.53638   129.652577    Credit Card  In-store       2022-01-16   \n",
       "\n",
       "     Discount Applied  \n",
       "9647             True  \n",
       "4732  Tidak Diketahui  \n",
       "2453  Tidak Diketahui  "
      ]
     },
     "execution_count": 60,
     "metadata": {},
     "output_type": "execute_result"
    }
   ],
   "source": [
    "dfm.sample(3)"
   ]
  },
  {
   "cell_type": "code",
   "execution_count": 68,
   "id": "1b3a6052",
   "metadata": {},
   "outputs": [
    {
     "data": {
      "text/plain": [
       "0        185.0\n",
       "1        261.0\n",
       "2         43.0\n",
       "3        247.5\n",
       "4         87.5\n",
       "         ...  \n",
       "12570    152.0\n",
       "12571     58.5\n",
       "12572    140.0\n",
       "12573     84.0\n",
       "12574     51.0\n",
       "Length: 12575, dtype: float64"
      ]
     },
     "execution_count": 68,
     "metadata": {},
     "output_type": "execute_result"
    }
   ],
   "source": [
    "revenue = dfm['Quantity'] * dfm['Price Per Unit']\n",
    "revenue"
   ]
  },
  {
   "cell_type": "markdown",
   "id": "c1cc9213",
   "metadata": {},
   "source": [
    "Insight:\n",
    "mendapatkan revenua perusahaan dari perkalian quantity barang dengan price per unit"
   ]
  },
  {
   "cell_type": "code",
   "execution_count": null,
   "id": "3cff1cb4",
   "metadata": {},
   "outputs": [],
   "source": []
  }
 ],
 "metadata": {
  "kernelspec": {
   "display_name": "mlenv",
   "language": "python",
   "name": "python3"
  },
  "language_info": {
   "codemirror_mode": {
    "name": "ipython",
    "version": 3
   },
   "file_extension": ".py",
   "mimetype": "text/x-python",
   "name": "python",
   "nbconvert_exporter": "python",
   "pygments_lexer": "ipython3",
   "version": "3.10.18"
  }
 },
 "nbformat": 4,
 "nbformat_minor": 5
}
